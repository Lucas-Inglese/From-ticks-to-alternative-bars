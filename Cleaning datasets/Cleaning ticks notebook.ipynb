{
 "cells": [
  {
   "cell_type": "markdown",
   "id": "9e0144ed",
   "metadata": {},
   "source": [
    "# Cleaning Ticks Datasets\n",
    "\n",
    "We will create a new file with the cleaned data for several reasons. The most important is that in the backtesting session, we will take the ticks with outliers if they do not come from an error."
   ]
  },
  {
   "cell_type": "markdown",
   "id": "92f25325",
   "metadata": {},
   "source": [
    "<br>\n",
    "\n",
    "## Basic consideration\n",
    "\n",
    "- Order the ticks in a chronological order\n",
    "- Verify that you do not have null or negative prices or volume \n",
    "- Never have a bid higher than the ask\n",
    "\n",
    "\n",
    "## Detect outliers\n",
    "- We need to remove the outliers from our data to find more easily good relationship later between variables (but keep the original values with outliers for the backtesting)"
   ]
  },
  {
   "cell_type": "code",
   "execution_count": 295,
   "id": "ce2cc498",
   "metadata": {},
   "outputs": [],
   "source": [
    "import numpy as np\n",
    "import pandas as pd\n",
    "import matplotlib.pyplot as plt"
   ]
  },
  {
   "cell_type": "code",
   "execution_count": 296,
   "id": "15364296",
   "metadata": {},
   "outputs": [],
   "source": [
    "df = pd.read_parquet(\"../../../EURUSD-Z-Admiral-Markets/2014/01/02.parquet\")"
   ]
  },
  {
   "cell_type": "markdown",
   "id": "9dab2cb3",
   "metadata": {},
   "source": [
    "<br>\n",
    "\n",
    "### Order the ticks in a chronological order"
   ]
  },
  {
   "cell_type": "code",
   "execution_count": 297,
   "id": "bf0230e2",
   "metadata": {},
   "outputs": [
    {
     "data": {
      "text/html": [
       "<div>\n",
       "<style scoped>\n",
       "    .dataframe tbody tr th:only-of-type {\n",
       "        vertical-align: middle;\n",
       "    }\n",
       "\n",
       "    .dataframe tbody tr th {\n",
       "        vertical-align: top;\n",
       "    }\n",
       "\n",
       "    .dataframe thead th {\n",
       "        text-align: right;\n",
       "    }\n",
       "</style>\n",
       "<table border=\"1\" class=\"dataframe\">\n",
       "  <thead>\n",
       "    <tr style=\"text-align: right;\">\n",
       "      <th></th>\n",
       "      <th>time</th>\n",
       "      <th>bid</th>\n",
       "      <th>ask</th>\n",
       "    </tr>\n",
       "  </thead>\n",
       "  <tbody>\n",
       "    <tr>\n",
       "      <th>0</th>\n",
       "      <td>2014-01-02 00:00:00+00:00</td>\n",
       "      <td>1.37654</td>\n",
       "      <td>1.37660</td>\n",
       "    </tr>\n",
       "    <tr>\n",
       "      <th>1</th>\n",
       "      <td>2014-01-02 00:00:00+00:00</td>\n",
       "      <td>1.37654</td>\n",
       "      <td>1.37660</td>\n",
       "    </tr>\n",
       "    <tr>\n",
       "      <th>2</th>\n",
       "      <td>2014-01-02 00:00:00+00:00</td>\n",
       "      <td>1.37644</td>\n",
       "      <td>1.37657</td>\n",
       "    </tr>\n",
       "    <tr>\n",
       "      <th>3</th>\n",
       "      <td>2014-01-02 00:00:00+00:00</td>\n",
       "      <td>1.37644</td>\n",
       "      <td>1.37657</td>\n",
       "    </tr>\n",
       "    <tr>\n",
       "      <th>4</th>\n",
       "      <td>2014-01-02 00:00:00+00:00</td>\n",
       "      <td>1.37646</td>\n",
       "      <td>1.37658</td>\n",
       "    </tr>\n",
       "    <tr>\n",
       "      <th>...</th>\n",
       "      <td>...</td>\n",
       "      <td>...</td>\n",
       "      <td>...</td>\n",
       "    </tr>\n",
       "    <tr>\n",
       "      <th>170646</th>\n",
       "      <td>2014-01-02 23:59:58+00:00</td>\n",
       "      <td>1.36653</td>\n",
       "      <td>1.36659</td>\n",
       "    </tr>\n",
       "    <tr>\n",
       "      <th>170647</th>\n",
       "      <td>2014-01-02 23:59:59+00:00</td>\n",
       "      <td>1.36650</td>\n",
       "      <td>1.36657</td>\n",
       "    </tr>\n",
       "    <tr>\n",
       "      <th>170648</th>\n",
       "      <td>2014-01-02 23:59:59+00:00</td>\n",
       "      <td>1.36650</td>\n",
       "      <td>1.36657</td>\n",
       "    </tr>\n",
       "    <tr>\n",
       "      <th>170649</th>\n",
       "      <td>2014-01-02 23:59:59+00:00</td>\n",
       "      <td>1.36650</td>\n",
       "      <td>1.36658</td>\n",
       "    </tr>\n",
       "    <tr>\n",
       "      <th>170650</th>\n",
       "      <td>2014-01-02 23:59:59+00:00</td>\n",
       "      <td>1.36650</td>\n",
       "      <td>1.36658</td>\n",
       "    </tr>\n",
       "  </tbody>\n",
       "</table>\n",
       "<p>170651 rows × 3 columns</p>\n",
       "</div>"
      ],
      "text/plain": [
       "                            time      bid      ask\n",
       "0      2014-01-02 00:00:00+00:00  1.37654  1.37660\n",
       "1      2014-01-02 00:00:00+00:00  1.37654  1.37660\n",
       "2      2014-01-02 00:00:00+00:00  1.37644  1.37657\n",
       "3      2014-01-02 00:00:00+00:00  1.37644  1.37657\n",
       "4      2014-01-02 00:00:00+00:00  1.37646  1.37658\n",
       "...                          ...      ...      ...\n",
       "170646 2014-01-02 23:59:58+00:00  1.36653  1.36659\n",
       "170647 2014-01-02 23:59:59+00:00  1.36650  1.36657\n",
       "170648 2014-01-02 23:59:59+00:00  1.36650  1.36657\n",
       "170649 2014-01-02 23:59:59+00:00  1.36650  1.36658\n",
       "170650 2014-01-02 23:59:59+00:00  1.36650  1.36658\n",
       "\n",
       "[170651 rows x 3 columns]"
      ]
     },
     "execution_count": 297,
     "metadata": {},
     "output_type": "execute_result"
    }
   ],
   "source": [
    "# Sort index by chronological order\n",
    "df = df.sort_index(ascending = True)\n",
    "\n",
    "# We reset thte index because the dates are not unique\n",
    "df = df.reset_index(drop=False)\n",
    "\n",
    "df"
   ]
  },
  {
   "cell_type": "markdown",
   "id": "b57947cb",
   "metadata": {},
   "source": [
    "<br>\n",
    "\n",
    "### Verify that you do not have null or negative prices or volumes"
   ]
  },
  {
   "cell_type": "code",
   "execution_count": 298,
   "id": "cc2cd3c8",
   "metadata": {},
   "outputs": [
    {
     "name": "stdout",
     "output_type": "stream",
     "text": [
      "N Rows dropped\n"
     ]
    },
    {
     "data": {
      "text/html": [
       "<div>\n",
       "<style scoped>\n",
       "    .dataframe tbody tr th:only-of-type {\n",
       "        vertical-align: middle;\n",
       "    }\n",
       "\n",
       "    .dataframe tbody tr th {\n",
       "        vertical-align: top;\n",
       "    }\n",
       "\n",
       "    .dataframe thead th {\n",
       "        text-align: right;\n",
       "    }\n",
       "</style>\n",
       "<table border=\"1\" class=\"dataframe\">\n",
       "  <thead>\n",
       "    <tr style=\"text-align: right;\">\n",
       "      <th></th>\n",
       "      <th>time</th>\n",
       "      <th>bid</th>\n",
       "      <th>ask</th>\n",
       "    </tr>\n",
       "  </thead>\n",
       "  <tbody>\n",
       "    <tr>\n",
       "      <th>0</th>\n",
       "      <td>2014-01-02 00:00:00+00:00</td>\n",
       "      <td>1.37654</td>\n",
       "      <td>1.37660</td>\n",
       "    </tr>\n",
       "    <tr>\n",
       "      <th>1</th>\n",
       "      <td>2014-01-02 00:00:00+00:00</td>\n",
       "      <td>1.37654</td>\n",
       "      <td>1.37660</td>\n",
       "    </tr>\n",
       "    <tr>\n",
       "      <th>2</th>\n",
       "      <td>2014-01-02 00:00:00+00:00</td>\n",
       "      <td>1.37644</td>\n",
       "      <td>1.37657</td>\n",
       "    </tr>\n",
       "    <tr>\n",
       "      <th>3</th>\n",
       "      <td>2014-01-02 00:00:00+00:00</td>\n",
       "      <td>1.37644</td>\n",
       "      <td>1.37657</td>\n",
       "    </tr>\n",
       "    <tr>\n",
       "      <th>4</th>\n",
       "      <td>2014-01-02 00:00:00+00:00</td>\n",
       "      <td>1.37646</td>\n",
       "      <td>1.37658</td>\n",
       "    </tr>\n",
       "    <tr>\n",
       "      <th>...</th>\n",
       "      <td>...</td>\n",
       "      <td>...</td>\n",
       "      <td>...</td>\n",
       "    </tr>\n",
       "    <tr>\n",
       "      <th>170646</th>\n",
       "      <td>2014-01-02 23:59:58+00:00</td>\n",
       "      <td>1.36653</td>\n",
       "      <td>1.36659</td>\n",
       "    </tr>\n",
       "    <tr>\n",
       "      <th>170647</th>\n",
       "      <td>2014-01-02 23:59:59+00:00</td>\n",
       "      <td>1.36650</td>\n",
       "      <td>1.36657</td>\n",
       "    </tr>\n",
       "    <tr>\n",
       "      <th>170648</th>\n",
       "      <td>2014-01-02 23:59:59+00:00</td>\n",
       "      <td>1.36650</td>\n",
       "      <td>1.36657</td>\n",
       "    </tr>\n",
       "    <tr>\n",
       "      <th>170649</th>\n",
       "      <td>2014-01-02 23:59:59+00:00</td>\n",
       "      <td>1.36650</td>\n",
       "      <td>1.36658</td>\n",
       "    </tr>\n",
       "    <tr>\n",
       "      <th>170650</th>\n",
       "      <td>2014-01-02 23:59:59+00:00</td>\n",
       "      <td>1.36650</td>\n",
       "      <td>1.36658</td>\n",
       "    </tr>\n",
       "  </tbody>\n",
       "</table>\n",
       "<p>170651 rows × 3 columns</p>\n",
       "</div>"
      ],
      "text/plain": [
       "                            time      bid      ask\n",
       "0      2014-01-02 00:00:00+00:00  1.37654  1.37660\n",
       "1      2014-01-02 00:00:00+00:00  1.37654  1.37660\n",
       "2      2014-01-02 00:00:00+00:00  1.37644  1.37657\n",
       "3      2014-01-02 00:00:00+00:00  1.37644  1.37657\n",
       "4      2014-01-02 00:00:00+00:00  1.37646  1.37658\n",
       "...                          ...      ...      ...\n",
       "170646 2014-01-02 23:59:58+00:00  1.36653  1.36659\n",
       "170647 2014-01-02 23:59:59+00:00  1.36650  1.36657\n",
       "170648 2014-01-02 23:59:59+00:00  1.36650  1.36657\n",
       "170649 2014-01-02 23:59:59+00:00  1.36650  1.36658\n",
       "170650 2014-01-02 23:59:59+00:00  1.36650  1.36658\n",
       "\n",
       "[170651 rows x 3 columns]"
      ]
     },
     "execution_count": 298,
     "metadata": {},
     "output_type": "execute_result"
    }
   ],
   "source": [
    "# We extract the errors index\n",
    "index_errors = list(df.loc[(df[\"bid\"]<=0) | (df[\"ask\"]<=0)].index)\n",
    "df = df.drop(index_errors, axis=0, inplace=False)\n",
    "df"
   ]
  },
  {
   "cell_type": "markdown",
   "id": "e41f4f42",
   "metadata": {},
   "source": [
    "<br>\n",
    "\n",
    "### Verify that the bid price is never above the ask price"
   ]
  },
  {
   "cell_type": "code",
   "execution_count": 299,
   "id": "2cb1f0fc",
   "metadata": {},
   "outputs": [
    {
     "name": "stdout",
     "output_type": "stream",
     "text": [
      "N Rows dropped\n"
     ]
    },
    {
     "data": {
      "text/html": [
       "<div>\n",
       "<style scoped>\n",
       "    .dataframe tbody tr th:only-of-type {\n",
       "        vertical-align: middle;\n",
       "    }\n",
       "\n",
       "    .dataframe tbody tr th {\n",
       "        vertical-align: top;\n",
       "    }\n",
       "\n",
       "    .dataframe thead th {\n",
       "        text-align: right;\n",
       "    }\n",
       "</style>\n",
       "<table border=\"1\" class=\"dataframe\">\n",
       "  <thead>\n",
       "    <tr style=\"text-align: right;\">\n",
       "      <th></th>\n",
       "      <th>time</th>\n",
       "      <th>bid</th>\n",
       "      <th>ask</th>\n",
       "    </tr>\n",
       "  </thead>\n",
       "  <tbody>\n",
       "    <tr>\n",
       "      <th>0</th>\n",
       "      <td>2014-01-02 00:00:00+00:00</td>\n",
       "      <td>1.37654</td>\n",
       "      <td>1.37660</td>\n",
       "    </tr>\n",
       "    <tr>\n",
       "      <th>1</th>\n",
       "      <td>2014-01-02 00:00:00+00:00</td>\n",
       "      <td>1.37654</td>\n",
       "      <td>1.37660</td>\n",
       "    </tr>\n",
       "    <tr>\n",
       "      <th>2</th>\n",
       "      <td>2014-01-02 00:00:00+00:00</td>\n",
       "      <td>1.37644</td>\n",
       "      <td>1.37657</td>\n",
       "    </tr>\n",
       "    <tr>\n",
       "      <th>3</th>\n",
       "      <td>2014-01-02 00:00:00+00:00</td>\n",
       "      <td>1.37644</td>\n",
       "      <td>1.37657</td>\n",
       "    </tr>\n",
       "    <tr>\n",
       "      <th>4</th>\n",
       "      <td>2014-01-02 00:00:00+00:00</td>\n",
       "      <td>1.37646</td>\n",
       "      <td>1.37658</td>\n",
       "    </tr>\n",
       "    <tr>\n",
       "      <th>...</th>\n",
       "      <td>...</td>\n",
       "      <td>...</td>\n",
       "      <td>...</td>\n",
       "    </tr>\n",
       "    <tr>\n",
       "      <th>170646</th>\n",
       "      <td>2014-01-02 23:59:58+00:00</td>\n",
       "      <td>1.36653</td>\n",
       "      <td>1.36659</td>\n",
       "    </tr>\n",
       "    <tr>\n",
       "      <th>170647</th>\n",
       "      <td>2014-01-02 23:59:59+00:00</td>\n",
       "      <td>1.36650</td>\n",
       "      <td>1.36657</td>\n",
       "    </tr>\n",
       "    <tr>\n",
       "      <th>170648</th>\n",
       "      <td>2014-01-02 23:59:59+00:00</td>\n",
       "      <td>1.36650</td>\n",
       "      <td>1.36657</td>\n",
       "    </tr>\n",
       "    <tr>\n",
       "      <th>170649</th>\n",
       "      <td>2014-01-02 23:59:59+00:00</td>\n",
       "      <td>1.36650</td>\n",
       "      <td>1.36658</td>\n",
       "    </tr>\n",
       "    <tr>\n",
       "      <th>170650</th>\n",
       "      <td>2014-01-02 23:59:59+00:00</td>\n",
       "      <td>1.36650</td>\n",
       "      <td>1.36658</td>\n",
       "    </tr>\n",
       "  </tbody>\n",
       "</table>\n",
       "<p>170651 rows × 3 columns</p>\n",
       "</div>"
      ],
      "text/plain": [
       "                            time      bid      ask\n",
       "0      2014-01-02 00:00:00+00:00  1.37654  1.37660\n",
       "1      2014-01-02 00:00:00+00:00  1.37654  1.37660\n",
       "2      2014-01-02 00:00:00+00:00  1.37644  1.37657\n",
       "3      2014-01-02 00:00:00+00:00  1.37644  1.37657\n",
       "4      2014-01-02 00:00:00+00:00  1.37646  1.37658\n",
       "...                          ...      ...      ...\n",
       "170646 2014-01-02 23:59:58+00:00  1.36653  1.36659\n",
       "170647 2014-01-02 23:59:59+00:00  1.36650  1.36657\n",
       "170648 2014-01-02 23:59:59+00:00  1.36650  1.36657\n",
       "170649 2014-01-02 23:59:59+00:00  1.36650  1.36658\n",
       "170650 2014-01-02 23:59:59+00:00  1.36650  1.36658\n",
       "\n",
       "[170651 rows x 3 columns]"
      ]
     },
     "execution_count": 299,
     "metadata": {},
     "output_type": "execute_result"
    }
   ],
   "source": [
    "index_errors = list(df.loc[df[\"ask\"]< df[\"bid\"]].index)\n",
    "df = df.drop(index_errors, axis=0, inplace=False)\n",
    "df"
   ]
  },
  {
   "cell_type": "markdown",
   "id": "20c70a90",
   "metadata": {},
   "source": [
    "<br>\n",
    "\n",
    "### Outliers detection"
   ]
  },
  {
   "cell_type": "code",
   "execution_count": 300,
   "id": "28a9a6f7",
   "metadata": {},
   "outputs": [],
   "source": [
    "def is_outlier(s, k=5, gamma=0):\n",
    "    s = s.reset_index(drop=True)\n",
    "    center_value = s.iloc[k]\n",
    "    trimmed_s = s[~s.index.isin([k])]\n",
    "    trimmed_mean = trimmed_s.mean()\n",
    "    std_dev = trimmed_s.std()\n",
    "    return abs(center_value - trimmed_mean) > 3 * std_dev + gamma\n",
    "\n",
    "\n",
    "# Parameters\n",
    "k = 5  # Window size --> 2*k + 1\n",
    "gamma = 0.00005  # Granularity (security threshold to avoid finding outliers which are not especially when the volatility is very low)"
   ]
  },
  {
   "cell_type": "code",
   "execution_count": 301,
   "id": "60c75a82",
   "metadata": {},
   "outputs": [],
   "source": [
    "# We apply the is_outlier fonction\n",
    "outliers_mask_bid = df['bid'].rolling(window=2*k+1, center=True).apply(\n",
    "    lambda s: is_outlier(s, k, gamma), raw=False)\n",
    "\n",
    "outliers_index_bid = outliers_mask_bid[outliers_mask_bid == 1].index\n",
    "\n",
    "\n",
    "outliers_mask_ask = df['ask'].rolling(window=2*k+1, center=True).apply(\n",
    "    lambda s: is_outlier(s, k, gamma), raw=False)\n",
    "outliers_index_ask = outliers_mask_ask[outliers_mask_ask == 1].index\n"
   ]
  },
  {
   "cell_type": "code",
   "execution_count": 302,
   "id": "3c38edac",
   "metadata": {},
   "outputs": [
    {
     "data": {
      "text/plain": [
       "[76869, 75093]"
      ]
     },
     "execution_count": 302,
     "metadata": {},
     "output_type": "execute_result"
    }
   ],
   "source": [
    "outliers_index = list(outliers_index_bid)\n",
    "outliers_index.extend(list(outliers_index_ask))\n",
    "outliers_index"
   ]
  },
  {
   "cell_type": "code",
   "execution_count": 303,
   "id": "7a0b4847",
   "metadata": {},
   "outputs": [],
   "source": [
    "df_clean = df.drop(outliers_index, axis=0, inplace=False)"
   ]
  },
  {
   "cell_type": "code",
   "execution_count": 305,
   "id": "1ae8250b",
   "metadata": {},
   "outputs": [
    {
     "data": {
      "text/plain": [
       "[<matplotlib.lines.Line2D at 0x7fb4a88789d0>]"
      ]
     },
     "execution_count": 305,
     "metadata": {},
     "output_type": "execute_result"
    },
    {
     "data": {
      "image/png": "[encoded data removed]",
      "text/plain": [
       "<Figure size 432x288 with 1 Axes>"
      ]
     },
     "metadata": {
      "needs_background": "light"
     },
     "output_type": "display_data"
    }
   ],
   "source": [
    "i = 75093\n",
    "plt.plot(df.iloc[i-10:i+10,:][\"bid\"])"
   ]
  },
  {
   "cell_type": "code",
   "execution_count": 306,
   "id": "2d8d32fb",
   "metadata": {},
   "outputs": [
    {
     "data": {
      "text/plain": [
       "[<matplotlib.lines.Line2D at 0x7fb46873d8e0>]"
      ]
     },
     "execution_count": 306,
     "metadata": {},
     "output_type": "execute_result"
    },
    {
     "data": {
      "image/png": "[encoded data removed]",
      "text/plain": [
       "<Figure size 432x288 with 1 Axes>"
      ]
     },
     "metadata": {
      "needs_background": "light"
     },
     "output_type": "display_data"
    }
   ],
   "source": [
    "i = 75093\n",
    "plt.plot(df_clean.iloc[i-10:i+10,:][\"bid\"])"
   ]
  },
  {
   "cell_type": "code",
   "execution_count": 258,
   "id": "95fa386a",
   "metadata": {},
   "outputs": [
    {
     "data": {
      "text/html": [
       "<div>\n",
       "<style scoped>\n",
       "    .dataframe tbody tr th:only-of-type {\n",
       "        vertical-align: middle;\n",
       "    }\n",
       "\n",
       "    .dataframe tbody tr th {\n",
       "        vertical-align: top;\n",
       "    }\n",
       "\n",
       "    .dataframe thead th {\n",
       "        text-align: right;\n",
       "    }\n",
       "</style>\n",
       "<table border=\"1\" class=\"dataframe\">\n",
       "  <thead>\n",
       "    <tr style=\"text-align: right;\">\n",
       "      <th></th>\n",
       "      <th>bid</th>\n",
       "      <th>ask</th>\n",
       "    </tr>\n",
       "    <tr>\n",
       "      <th>time</th>\n",
       "      <th></th>\n",
       "      <th></th>\n",
       "    </tr>\n",
       "  </thead>\n",
       "  <tbody>\n",
       "    <tr>\n",
       "      <th>2014-01-02 00:07:01</th>\n",
       "      <td>1.37554</td>\n",
       "      <td>1.37647</td>\n",
       "    </tr>\n",
       "    <tr>\n",
       "      <th>2014-01-02 00:07:07</th>\n",
       "      <td>1.37552</td>\n",
       "      <td>1.37647</td>\n",
       "    </tr>\n",
       "    <tr>\n",
       "      <th>2014-01-02 00:07:07</th>\n",
       "      <td>1.37552</td>\n",
       "      <td>1.37647</td>\n",
       "    </tr>\n",
       "    <tr>\n",
       "      <th>2014-01-02 00:07:32</th>\n",
       "      <td>1.37553</td>\n",
       "      <td>1.37647</td>\n",
       "    </tr>\n",
       "    <tr>\n",
       "      <th>2014-01-02 00:07:32</th>\n",
       "      <td>1.37553</td>\n",
       "      <td>1.37647</td>\n",
       "    </tr>\n",
       "    <tr>\n",
       "      <th>...</th>\n",
       "      <td>...</td>\n",
       "      <td>...</td>\n",
       "    </tr>\n",
       "    <tr>\n",
       "      <th>2014-01-02 23:57:49</th>\n",
       "      <td>1.36692</td>\n",
       "      <td>1.36700</td>\n",
       "    </tr>\n",
       "    <tr>\n",
       "      <th>2014-01-02 23:57:58</th>\n",
       "      <td>1.36690</td>\n",
       "      <td>1.36700</td>\n",
       "    </tr>\n",
       "    <tr>\n",
       "      <th>2014-01-02 23:57:58</th>\n",
       "      <td>1.36690</td>\n",
       "      <td>1.36700</td>\n",
       "    </tr>\n",
       "    <tr>\n",
       "      <th>2014-01-02 23:57:59</th>\n",
       "      <td>1.36691</td>\n",
       "      <td>1.36700</td>\n",
       "    </tr>\n",
       "    <tr>\n",
       "      <th>2014-01-02 23:57:59</th>\n",
       "      <td>1.36691</td>\n",
       "      <td>1.36700</td>\n",
       "    </tr>\n",
       "  </tbody>\n",
       "</table>\n",
       "<p>171383 rows × 2 columns</p>\n",
       "</div>"
      ],
      "text/plain": [
       "                         bid      ask\n",
       "time                                 \n",
       "2014-01-02 00:07:01  1.37554  1.37647\n",
       "2014-01-02 00:07:07  1.37552  1.37647\n",
       "2014-01-02 00:07:07  1.37552  1.37647\n",
       "2014-01-02 00:07:32  1.37553  1.37647\n",
       "2014-01-02 00:07:32  1.37553  1.37647\n",
       "...                      ...      ...\n",
       "2014-01-02 23:57:49  1.36692  1.36700\n",
       "2014-01-02 23:57:58  1.36690  1.36700\n",
       "2014-01-02 23:57:58  1.36690  1.36700\n",
       "2014-01-02 23:57:59  1.36691  1.36700\n",
       "2014-01-02 23:57:59  1.36691  1.36700\n",
       "\n",
       "[171383 rows x 2 columns]"
      ]
     },
     "execution_count": 258,
     "metadata": {},
     "output_type": "execute_result"
    }
   ],
   "source": [
    "df_clean = df_clean.set_index(\"time\")\n",
    "df_clean"
   ]
  },
  {
   "cell_type": "code",
   "execution_count": null,
   "id": "6b6705fc",
   "metadata": {},
   "outputs": [],
   "source": []
  }
 ],
 "metadata": {
  "@webio": {
   "lastCommId": null,
   "lastKernelId": null
  },
  "kernelspec": {
   "display_name": "Python 3 (ipykernel)",
   "language": "python",
   "name": "python3"
  },
  "language_info": {
   "codemirror_mode": {
    "name": "ipython",
    "version": 3
   },
   "file_extension": ".py",
   "mimetype": "text/x-python",
   "name": "python",
   "nbconvert_exporter": "python",
   "pygments_lexer": "ipython3",
   "version": "3.9.12"
  }
 },
 "nbformat": 4,
 "nbformat_minor": 5
}
